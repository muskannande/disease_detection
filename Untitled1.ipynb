{
  "nbformat": 4,
  "nbformat_minor": 0,
  "metadata": {
    "colab": {
      "name": "Untitled1.ipynb",
      "provenance": [],
      "collapsed_sections": []
    },
    "kernelspec": {
      "name": "python3",
      "display_name": "Python 3"
    },
    "language_info": {
      "name": "python"
    }
  },
  "cells": [
    {
      "cell_type": "code",
      "metadata": {
        "colab": {
          "base_uri": "https://localhost:8080/"
        },
        "id": "QI0g92Xped1H",
        "outputId": "181f9afd-9a72-44cd-efb2-19c221fe3f49"
      },
      "source": [
        "pip install numpy pandas sklearn xgboost\n"
      ],
      "execution_count": 1,
      "outputs": [
        {
          "output_type": "stream",
          "name": "stdout",
          "text": [
            "Requirement already satisfied: numpy in /usr/local/lib/python3.7/dist-packages (1.19.5)\n",
            "Requirement already satisfied: pandas in /usr/local/lib/python3.7/dist-packages (1.1.5)\n",
            "Requirement already satisfied: sklearn in /usr/local/lib/python3.7/dist-packages (0.0)\n",
            "Requirement already satisfied: xgboost in /usr/local/lib/python3.7/dist-packages (0.90)\n",
            "Requirement already satisfied: python-dateutil>=2.7.3 in /usr/local/lib/python3.7/dist-packages (from pandas) (2.8.2)\n",
            "Requirement already satisfied: pytz>=2017.2 in /usr/local/lib/python3.7/dist-packages (from pandas) (2018.9)\n",
            "Requirement already satisfied: six>=1.5 in /usr/local/lib/python3.7/dist-packages (from python-dateutil>=2.7.3->pandas) (1.15.0)\n",
            "Requirement already satisfied: scikit-learn in /usr/local/lib/python3.7/dist-packages (from sklearn) (0.22.2.post1)\n",
            "Requirement already satisfied: scipy in /usr/local/lib/python3.7/dist-packages (from xgboost) (1.4.1)\n",
            "Requirement already satisfied: joblib>=0.11 in /usr/local/lib/python3.7/dist-packages (from scikit-learn->sklearn) (1.0.1)\n"
          ]
        }
      ]
    },
    {
      "cell_type": "code",
      "metadata": {
        "id": "ywjfYqUQe-75"
      },
      "source": [
        "import pandas as pd"
      ],
      "execution_count": 2,
      "outputs": []
    },
    {
      "cell_type": "code",
      "metadata": {
        "id": "ZMv0EqRHfVdx"
      },
      "source": [
        "df = pd.read_csv(\"https://raw.githubusercontent.com/chaitanyabaranwal/ParkinsonAnalysis/master/parkinsons.csv\")"
      ],
      "execution_count": 4,
      "outputs": []
    },
    {
      "cell_type": "code",
      "metadata": {
        "colab": {
          "base_uri": "https://localhost:8080/",
          "height": 438
        },
        "id": "ZFk26Q7qfapM",
        "outputId": "2eefed5f-da98-4ef4-cc09-979a978947f8"
      },
      "source": [
        "df"
      ],
      "execution_count": 5,
      "outputs": [
        {
          "output_type": "execute_result",
          "data": {
            "text/html": [
              "<div>\n",
              "<style scoped>\n",
              "    .dataframe tbody tr th:only-of-type {\n",
              "        vertical-align: middle;\n",
              "    }\n",
              "\n",
              "    .dataframe tbody tr th {\n",
              "        vertical-align: top;\n",
              "    }\n",
              "\n",
              "    .dataframe thead th {\n",
              "        text-align: right;\n",
              "    }\n",
              "</style>\n",
              "<table border=\"1\" class=\"dataframe\">\n",
              "  <thead>\n",
              "    <tr style=\"text-align: right;\">\n",
              "      <th></th>\n",
              "      <th>name</th>\n",
              "      <th>MDVP:Fo(Hz)</th>\n",
              "      <th>MDVP:Fhi(Hz)</th>\n",
              "      <th>MDVP:Flo(Hz)</th>\n",
              "      <th>MDVP:Jitter(%)</th>\n",
              "      <th>MDVP:Jitter(Abs)</th>\n",
              "      <th>MDVP:RAP</th>\n",
              "      <th>MDVP:PPQ</th>\n",
              "      <th>Jitter:DDP</th>\n",
              "      <th>MDVP:Shimmer</th>\n",
              "      <th>MDVP:Shimmer(dB)</th>\n",
              "      <th>Shimmer:APQ3</th>\n",
              "      <th>Shimmer:APQ5</th>\n",
              "      <th>MDVP:APQ</th>\n",
              "      <th>Shimmer:DDA</th>\n",
              "      <th>NHR</th>\n",
              "      <th>HNR</th>\n",
              "      <th>RPDE</th>\n",
              "      <th>DFA</th>\n",
              "      <th>spread1</th>\n",
              "      <th>spread2</th>\n",
              "      <th>D2</th>\n",
              "      <th>PPE</th>\n",
              "      <th>status</th>\n",
              "    </tr>\n",
              "  </thead>\n",
              "  <tbody>\n",
              "    <tr>\n",
              "      <th>0</th>\n",
              "      <td>phon_R01_S01_1</td>\n",
              "      <td>119.992</td>\n",
              "      <td>157.302</td>\n",
              "      <td>74.997</td>\n",
              "      <td>0.00784</td>\n",
              "      <td>0.00007</td>\n",
              "      <td>0.00370</td>\n",
              "      <td>0.00554</td>\n",
              "      <td>0.01109</td>\n",
              "      <td>0.04374</td>\n",
              "      <td>0.426</td>\n",
              "      <td>0.02182</td>\n",
              "      <td>0.03130</td>\n",
              "      <td>0.02971</td>\n",
              "      <td>0.06545</td>\n",
              "      <td>0.02211</td>\n",
              "      <td>21.033</td>\n",
              "      <td>0.414783</td>\n",
              "      <td>0.815285</td>\n",
              "      <td>-4.813031</td>\n",
              "      <td>0.266482</td>\n",
              "      <td>2.301442</td>\n",
              "      <td>0.284654</td>\n",
              "      <td>1</td>\n",
              "    </tr>\n",
              "    <tr>\n",
              "      <th>1</th>\n",
              "      <td>phon_R01_S01_2</td>\n",
              "      <td>122.400</td>\n",
              "      <td>148.650</td>\n",
              "      <td>113.819</td>\n",
              "      <td>0.00968</td>\n",
              "      <td>0.00008</td>\n",
              "      <td>0.00465</td>\n",
              "      <td>0.00696</td>\n",
              "      <td>0.01394</td>\n",
              "      <td>0.06134</td>\n",
              "      <td>0.626</td>\n",
              "      <td>0.03134</td>\n",
              "      <td>0.04518</td>\n",
              "      <td>0.04368</td>\n",
              "      <td>0.09403</td>\n",
              "      <td>0.01929</td>\n",
              "      <td>19.085</td>\n",
              "      <td>0.458359</td>\n",
              "      <td>0.819521</td>\n",
              "      <td>-4.075192</td>\n",
              "      <td>0.335590</td>\n",
              "      <td>2.486855</td>\n",
              "      <td>0.368674</td>\n",
              "      <td>1</td>\n",
              "    </tr>\n",
              "    <tr>\n",
              "      <th>2</th>\n",
              "      <td>phon_R01_S01_3</td>\n",
              "      <td>116.682</td>\n",
              "      <td>131.111</td>\n",
              "      <td>111.555</td>\n",
              "      <td>0.01050</td>\n",
              "      <td>0.00009</td>\n",
              "      <td>0.00544</td>\n",
              "      <td>0.00781</td>\n",
              "      <td>0.01633</td>\n",
              "      <td>0.05233</td>\n",
              "      <td>0.482</td>\n",
              "      <td>0.02757</td>\n",
              "      <td>0.03858</td>\n",
              "      <td>0.03590</td>\n",
              "      <td>0.08270</td>\n",
              "      <td>0.01309</td>\n",
              "      <td>20.651</td>\n",
              "      <td>0.429895</td>\n",
              "      <td>0.825288</td>\n",
              "      <td>-4.443179</td>\n",
              "      <td>0.311173</td>\n",
              "      <td>2.342259</td>\n",
              "      <td>0.332634</td>\n",
              "      <td>1</td>\n",
              "    </tr>\n",
              "    <tr>\n",
              "      <th>3</th>\n",
              "      <td>phon_R01_S01_4</td>\n",
              "      <td>116.676</td>\n",
              "      <td>137.871</td>\n",
              "      <td>111.366</td>\n",
              "      <td>0.00997</td>\n",
              "      <td>0.00009</td>\n",
              "      <td>0.00502</td>\n",
              "      <td>0.00698</td>\n",
              "      <td>0.01505</td>\n",
              "      <td>0.05492</td>\n",
              "      <td>0.517</td>\n",
              "      <td>0.02924</td>\n",
              "      <td>0.04005</td>\n",
              "      <td>0.03772</td>\n",
              "      <td>0.08771</td>\n",
              "      <td>0.01353</td>\n",
              "      <td>20.644</td>\n",
              "      <td>0.434969</td>\n",
              "      <td>0.819235</td>\n",
              "      <td>-4.117501</td>\n",
              "      <td>0.334147</td>\n",
              "      <td>2.405554</td>\n",
              "      <td>0.368975</td>\n",
              "      <td>1</td>\n",
              "    </tr>\n",
              "    <tr>\n",
              "      <th>4</th>\n",
              "      <td>phon_R01_S01_5</td>\n",
              "      <td>116.014</td>\n",
              "      <td>141.781</td>\n",
              "      <td>110.655</td>\n",
              "      <td>0.01284</td>\n",
              "      <td>0.00011</td>\n",
              "      <td>0.00655</td>\n",
              "      <td>0.00908</td>\n",
              "      <td>0.01966</td>\n",
              "      <td>0.06425</td>\n",
              "      <td>0.584</td>\n",
              "      <td>0.03490</td>\n",
              "      <td>0.04825</td>\n",
              "      <td>0.04465</td>\n",
              "      <td>0.10470</td>\n",
              "      <td>0.01767</td>\n",
              "      <td>19.649</td>\n",
              "      <td>0.417356</td>\n",
              "      <td>0.823484</td>\n",
              "      <td>-3.747787</td>\n",
              "      <td>0.234513</td>\n",
              "      <td>2.332180</td>\n",
              "      <td>0.410335</td>\n",
              "      <td>1</td>\n",
              "    </tr>\n",
              "    <tr>\n",
              "      <th>...</th>\n",
              "      <td>...</td>\n",
              "      <td>...</td>\n",
              "      <td>...</td>\n",
              "      <td>...</td>\n",
              "      <td>...</td>\n",
              "      <td>...</td>\n",
              "      <td>...</td>\n",
              "      <td>...</td>\n",
              "      <td>...</td>\n",
              "      <td>...</td>\n",
              "      <td>...</td>\n",
              "      <td>...</td>\n",
              "      <td>...</td>\n",
              "      <td>...</td>\n",
              "      <td>...</td>\n",
              "      <td>...</td>\n",
              "      <td>...</td>\n",
              "      <td>...</td>\n",
              "      <td>...</td>\n",
              "      <td>...</td>\n",
              "      <td>...</td>\n",
              "      <td>...</td>\n",
              "      <td>...</td>\n",
              "      <td>...</td>\n",
              "    </tr>\n",
              "    <tr>\n",
              "      <th>190</th>\n",
              "      <td>phon_R01_S50_2</td>\n",
              "      <td>174.188</td>\n",
              "      <td>230.978</td>\n",
              "      <td>94.261</td>\n",
              "      <td>0.00459</td>\n",
              "      <td>0.00003</td>\n",
              "      <td>0.00263</td>\n",
              "      <td>0.00259</td>\n",
              "      <td>0.00790</td>\n",
              "      <td>0.04087</td>\n",
              "      <td>0.405</td>\n",
              "      <td>0.02336</td>\n",
              "      <td>0.02498</td>\n",
              "      <td>0.02745</td>\n",
              "      <td>0.07008</td>\n",
              "      <td>0.02764</td>\n",
              "      <td>19.517</td>\n",
              "      <td>0.448439</td>\n",
              "      <td>0.657899</td>\n",
              "      <td>-6.538586</td>\n",
              "      <td>0.121952</td>\n",
              "      <td>2.657476</td>\n",
              "      <td>0.133050</td>\n",
              "      <td>0</td>\n",
              "    </tr>\n",
              "    <tr>\n",
              "      <th>191</th>\n",
              "      <td>phon_R01_S50_3</td>\n",
              "      <td>209.516</td>\n",
              "      <td>253.017</td>\n",
              "      <td>89.488</td>\n",
              "      <td>0.00564</td>\n",
              "      <td>0.00003</td>\n",
              "      <td>0.00331</td>\n",
              "      <td>0.00292</td>\n",
              "      <td>0.00994</td>\n",
              "      <td>0.02751</td>\n",
              "      <td>0.263</td>\n",
              "      <td>0.01604</td>\n",
              "      <td>0.01657</td>\n",
              "      <td>0.01879</td>\n",
              "      <td>0.04812</td>\n",
              "      <td>0.01810</td>\n",
              "      <td>19.147</td>\n",
              "      <td>0.431674</td>\n",
              "      <td>0.683244</td>\n",
              "      <td>-6.195325</td>\n",
              "      <td>0.129303</td>\n",
              "      <td>2.784312</td>\n",
              "      <td>0.168895</td>\n",
              "      <td>0</td>\n",
              "    </tr>\n",
              "    <tr>\n",
              "      <th>192</th>\n",
              "      <td>phon_R01_S50_4</td>\n",
              "      <td>174.688</td>\n",
              "      <td>240.005</td>\n",
              "      <td>74.287</td>\n",
              "      <td>0.01360</td>\n",
              "      <td>0.00008</td>\n",
              "      <td>0.00624</td>\n",
              "      <td>0.00564</td>\n",
              "      <td>0.01873</td>\n",
              "      <td>0.02308</td>\n",
              "      <td>0.256</td>\n",
              "      <td>0.01268</td>\n",
              "      <td>0.01365</td>\n",
              "      <td>0.01667</td>\n",
              "      <td>0.03804</td>\n",
              "      <td>0.10715</td>\n",
              "      <td>17.883</td>\n",
              "      <td>0.407567</td>\n",
              "      <td>0.655683</td>\n",
              "      <td>-6.787197</td>\n",
              "      <td>0.158453</td>\n",
              "      <td>2.679772</td>\n",
              "      <td>0.131728</td>\n",
              "      <td>0</td>\n",
              "    </tr>\n",
              "    <tr>\n",
              "      <th>193</th>\n",
              "      <td>phon_R01_S50_5</td>\n",
              "      <td>198.764</td>\n",
              "      <td>396.961</td>\n",
              "      <td>74.904</td>\n",
              "      <td>0.00740</td>\n",
              "      <td>0.00004</td>\n",
              "      <td>0.00370</td>\n",
              "      <td>0.00390</td>\n",
              "      <td>0.01109</td>\n",
              "      <td>0.02296</td>\n",
              "      <td>0.241</td>\n",
              "      <td>0.01265</td>\n",
              "      <td>0.01321</td>\n",
              "      <td>0.01588</td>\n",
              "      <td>0.03794</td>\n",
              "      <td>0.07223</td>\n",
              "      <td>19.020</td>\n",
              "      <td>0.451221</td>\n",
              "      <td>0.643956</td>\n",
              "      <td>-6.744577</td>\n",
              "      <td>0.207454</td>\n",
              "      <td>2.138608</td>\n",
              "      <td>0.123306</td>\n",
              "      <td>0</td>\n",
              "    </tr>\n",
              "    <tr>\n",
              "      <th>194</th>\n",
              "      <td>phon_R01_S50_6</td>\n",
              "      <td>214.289</td>\n",
              "      <td>260.277</td>\n",
              "      <td>77.973</td>\n",
              "      <td>0.00567</td>\n",
              "      <td>0.00003</td>\n",
              "      <td>0.00295</td>\n",
              "      <td>0.00317</td>\n",
              "      <td>0.00885</td>\n",
              "      <td>0.01884</td>\n",
              "      <td>0.190</td>\n",
              "      <td>0.01026</td>\n",
              "      <td>0.01161</td>\n",
              "      <td>0.01373</td>\n",
              "      <td>0.03078</td>\n",
              "      <td>0.04398</td>\n",
              "      <td>21.209</td>\n",
              "      <td>0.462803</td>\n",
              "      <td>0.664357</td>\n",
              "      <td>-5.724056</td>\n",
              "      <td>0.190667</td>\n",
              "      <td>2.555477</td>\n",
              "      <td>0.148569</td>\n",
              "      <td>0</td>\n",
              "    </tr>\n",
              "  </tbody>\n",
              "</table>\n",
              "<p>195 rows × 24 columns</p>\n",
              "</div>"
            ],
            "text/plain": [
              "               name  MDVP:Fo(Hz)  MDVP:Fhi(Hz)  ...        D2       PPE  status\n",
              "0    phon_R01_S01_1      119.992       157.302  ...  2.301442  0.284654       1\n",
              "1    phon_R01_S01_2      122.400       148.650  ...  2.486855  0.368674       1\n",
              "2    phon_R01_S01_3      116.682       131.111  ...  2.342259  0.332634       1\n",
              "3    phon_R01_S01_4      116.676       137.871  ...  2.405554  0.368975       1\n",
              "4    phon_R01_S01_5      116.014       141.781  ...  2.332180  0.410335       1\n",
              "..              ...          ...           ...  ...       ...       ...     ...\n",
              "190  phon_R01_S50_2      174.188       230.978  ...  2.657476  0.133050       0\n",
              "191  phon_R01_S50_3      209.516       253.017  ...  2.784312  0.168895       0\n",
              "192  phon_R01_S50_4      174.688       240.005  ...  2.679772  0.131728       0\n",
              "193  phon_R01_S50_5      198.764       396.961  ...  2.138608  0.123306       0\n",
              "194  phon_R01_S50_6      214.289       260.277  ...  2.555477  0.148569       0\n",
              "\n",
              "[195 rows x 24 columns]"
            ]
          },
          "metadata": {},
          "execution_count": 5
        }
      ]
    },
    {
      "cell_type": "code",
      "metadata": {
        "colab": {
          "base_uri": "https://localhost:8080/"
        },
        "id": "wklBlfAXff78",
        "outputId": "852d6b0c-a920-4e08-8e18-37c16d5d8d85"
      },
      "source": [
        "features = df.loc[:,df.columns!='status'].values[:,1:]\n",
        "features"
      ],
      "execution_count": 6,
      "outputs": [
        {
          "output_type": "execute_result",
          "data": {
            "text/plain": [
              "array([[119.992, 157.30200000000002, 74.997, ..., 0.266482,\n",
              "        2.3014419999999998, 0.284654],\n",
              "       [122.4, 148.65, 113.819, ..., 0.33559, 2.486855, 0.368674],\n",
              "       [116.682, 131.111, 111.555, ..., 0.311173, 2.342259,\n",
              "        0.33263400000000004],\n",
              "       ...,\n",
              "       [174.688, 240.005, 74.28699999999999, ..., 0.158453,\n",
              "        2.6797720000000003, 0.13172799999999998],\n",
              "       [198.764, 396.961, 74.904, ..., 0.207454, 2.138608, 0.123306],\n",
              "       [214.28900000000002, 260.277, 77.973, ..., 0.190667, 2.555477,\n",
              "        0.148569]], dtype=object)"
            ]
          },
          "metadata": {},
          "execution_count": 6
        }
      ]
    },
    {
      "cell_type": "code",
      "metadata": {
        "id": "Td1ClKoxfspw"
      },
      "source": [
        "labels = df.loc[:,'status'].values"
      ],
      "execution_count": 7,
      "outputs": []
    },
    {
      "cell_type": "code",
      "metadata": {
        "colab": {
          "base_uri": "https://localhost:8080/"
        },
        "id": "S4GWnnSOf8Oq",
        "outputId": "053f1a81-8958-46c1-918d-5c056357d9ba"
      },
      "source": [
        "labels"
      ],
      "execution_count": 8,
      "outputs": [
        {
          "output_type": "execute_result",
          "data": {
            "text/plain": [
              "array([1, 1, 1, 1, 1, 1, 1, 1, 1, 1, 1, 1, 1, 1, 1, 1, 1, 1, 1, 1, 1, 1,\n",
              "       1, 1, 1, 1, 1, 1, 1, 1, 0, 0, 0, 0, 0, 0, 1, 1, 1, 1, 1, 1, 0, 0,\n",
              "       0, 0, 0, 0, 0, 0, 0, 0, 0, 0, 1, 1, 1, 1, 1, 1, 0, 0, 0, 0, 0, 0,\n",
              "       1, 1, 1, 1, 1, 1, 1, 1, 1, 1, 1, 1, 1, 1, 1, 1, 1, 1, 1, 1, 1, 1,\n",
              "       1, 1, 1, 1, 1, 1, 1, 1, 1, 1, 1, 1, 1, 1, 1, 1, 1, 1, 1, 1, 1, 1,\n",
              "       1, 1, 1, 1, 1, 1, 1, 1, 1, 1, 1, 1, 1, 1, 1, 1, 1, 1, 1, 1, 1, 1,\n",
              "       1, 1, 1, 1, 1, 1, 1, 1, 1, 1, 1, 1, 1, 1, 1, 1, 1, 1, 1, 1, 1, 1,\n",
              "       1, 1, 1, 1, 1, 1, 1, 1, 1, 1, 1, 0, 0, 0, 0, 0, 0, 0, 0, 0, 0, 0,\n",
              "       0, 1, 1, 1, 1, 1, 1, 0, 0, 0, 0, 0, 0, 0, 0, 0, 0, 0, 0])"
            ]
          },
          "metadata": {},
          "execution_count": 8
        }
      ]
    },
    {
      "cell_type": "code",
      "metadata": {
        "colab": {
          "base_uri": "https://localhost:8080/"
        },
        "id": "vPragNCPgExj",
        "outputId": "6ce98bb4-e115-4e14-b34f-4003dc127ebc"
      },
      "source": [
        "labels[labels==1].shape[0]\n",
        "\n"
      ],
      "execution_count": 9,
      "outputs": [
        {
          "output_type": "execute_result",
          "data": {
            "text/plain": [
              "147"
            ]
          },
          "metadata": {},
          "execution_count": 9
        }
      ]
    },
    {
      "cell_type": "code",
      "metadata": {
        "colab": {
          "base_uri": "https://localhost:8080/"
        },
        "id": "R2_LJSE8gRsI",
        "outputId": "1c57f9b5-df64-4337-cca0-02650e2977a8"
      },
      "source": [
        "labels[labels==0].shape[0]"
      ],
      "execution_count": 10,
      "outputs": [
        {
          "output_type": "execute_result",
          "data": {
            "text/plain": [
              "48"
            ]
          },
          "metadata": {},
          "execution_count": 10
        }
      ]
    },
    {
      "cell_type": "code",
      "metadata": {
        "id": "diod0oc6gcbU"
      },
      "source": [
        "from sklearn.preprocessing import MinMaxScaler"
      ],
      "execution_count": 11,
      "outputs": []
    },
    {
      "cell_type": "code",
      "metadata": {
        "id": "qp6u4xNjgovS"
      },
      "source": [
        "scaler = MinMaxScaler((-1,1))\n",
        "x=scaler.fit_transform(features)\n",
        "y=labels"
      ],
      "execution_count": 12,
      "outputs": []
    },
    {
      "cell_type": "code",
      "metadata": {
        "colab": {
          "base_uri": "https://localhost:8080/"
        },
        "id": "cESjlh-bgzfl",
        "outputId": "2d605244-8bb4-427c-b2e6-23ef6412e663"
      },
      "source": [
        "x"
      ],
      "execution_count": 13,
      "outputs": [
        {
          "output_type": "execute_result",
          "data": {
            "text/plain": [
              "array([[-0.63138346, -0.77481654, -0.89037042, ...,  0.17153026,\n",
              "        -0.21867743, -0.0053808 ],\n",
              "       [-0.6033463 , -0.81013911, -0.4433544 , ...,  0.48267409,\n",
              "        -0.05370956,  0.34265204],\n",
              "       [-0.66992292, -0.88174367, -0.46942324, ...,  0.37274182,\n",
              "        -0.18236124,  0.19336492],\n",
              "       ...,\n",
              "       [ 0.00546073, -0.43717403, -0.89854572, ..., -0.31484696,\n",
              "         0.11793486, -0.63884033],\n",
              "       [ 0.28578581,  0.20361309, -0.89144127, ..., -0.09423055,\n",
              "        -0.36355605, -0.67372646],\n",
              "       [ 0.46654868, -0.35441175, -0.85610326, ..., -0.16981039,\n",
              "         0.00734563, -0.5690805 ]])"
            ]
          },
          "metadata": {},
          "execution_count": 13
        }
      ]
    },
    {
      "cell_type": "code",
      "metadata": {
        "colab": {
          "base_uri": "https://localhost:8080/"
        },
        "id": "76fX6b1Ng2vM",
        "outputId": "ffe82d07-3016-46c1-8261-9816d1e158ec"
      },
      "source": [
        "y"
      ],
      "execution_count": 14,
      "outputs": [
        {
          "output_type": "execute_result",
          "data": {
            "text/plain": [
              "array([1, 1, 1, 1, 1, 1, 1, 1, 1, 1, 1, 1, 1, 1, 1, 1, 1, 1, 1, 1, 1, 1,\n",
              "       1, 1, 1, 1, 1, 1, 1, 1, 0, 0, 0, 0, 0, 0, 1, 1, 1, 1, 1, 1, 0, 0,\n",
              "       0, 0, 0, 0, 0, 0, 0, 0, 0, 0, 1, 1, 1, 1, 1, 1, 0, 0, 0, 0, 0, 0,\n",
              "       1, 1, 1, 1, 1, 1, 1, 1, 1, 1, 1, 1, 1, 1, 1, 1, 1, 1, 1, 1, 1, 1,\n",
              "       1, 1, 1, 1, 1, 1, 1, 1, 1, 1, 1, 1, 1, 1, 1, 1, 1, 1, 1, 1, 1, 1,\n",
              "       1, 1, 1, 1, 1, 1, 1, 1, 1, 1, 1, 1, 1, 1, 1, 1, 1, 1, 1, 1, 1, 1,\n",
              "       1, 1, 1, 1, 1, 1, 1, 1, 1, 1, 1, 1, 1, 1, 1, 1, 1, 1, 1, 1, 1, 1,\n",
              "       1, 1, 1, 1, 1, 1, 1, 1, 1, 1, 1, 0, 0, 0, 0, 0, 0, 0, 0, 0, 0, 0,\n",
              "       0, 1, 1, 1, 1, 1, 1, 0, 0, 0, 0, 0, 0, 0, 0, 0, 0, 0, 0])"
            ]
          },
          "metadata": {},
          "execution_count": 14
        }
      ]
    },
    {
      "cell_type": "code",
      "metadata": {
        "id": "mIqkpeF1hBOG"
      },
      "source": [
        "from sklearn.model_selection import train_test_split\n",
        "X_train, X_test, y_train , y_test = train_test_split(x, y, test_size=0.33, random_state=42)"
      ],
      "execution_count": 15,
      "outputs": []
    },
    {
      "cell_type": "code",
      "metadata": {
        "colab": {
          "base_uri": "https://localhost:8080/"
        },
        "id": "wz7yqbelhUG9",
        "outputId": "58cb91c2-eecf-454e-d1a2-b371daddfbe2"
      },
      "source": [
        "X_test"
      ],
      "execution_count": 16,
      "outputs": [
        {
          "output_type": "execute_result",
          "data": {
            "text/plain": [
              "array([[-0.72165429, -0.9001235 , -0.55532143, ...,  0.34951454,\n",
              "        -0.11385722, -0.3179683 ],\n",
              "       [-0.34966118,  0.00886535, -0.80093728, ...,  0.05123824,\n",
              "        -0.25154502, -0.28079979],\n",
              "       [-0.65609063, -0.89710238, -0.65251534, ..., -0.0921595 ,\n",
              "        -0.09575651, -0.33012584],\n",
              "       ...,\n",
              "       [-0.43421512, -0.76434878, -0.24234573, ..., -0.34023984,\n",
              "        -0.45015455, -0.61073923],\n",
              "       [ 0.21902289, -0.56416302, -0.82934356, ...,  0.22644461,\n",
              "         0.05474343, -0.41540673],\n",
              "       [ 0.1145239 , -0.61463609,  0.16873352, ..., -0.74274851,\n",
              "        -0.16521344, -0.70510824]])"
            ]
          },
          "metadata": {},
          "execution_count": 16
        }
      ]
    },
    {
      "cell_type": "code",
      "metadata": {
        "id": "27cdtjohh3Tg"
      },
      "source": [
        "# Train the model\n",
        "from xgboost import XGBClassifier\n",
        "xgb = XGBClassifier()\n",
        "xgb.fit(X_train, y_train)\n",
        "y_pred = xgb.predict(X_test)"
      ],
      "execution_count": 21,
      "outputs": []
    },
    {
      "cell_type": "code",
      "metadata": {
        "colab": {
          "base_uri": "https://localhost:8080/"
        },
        "id": "n8Ow0EaxiBly",
        "outputId": "aaadcb30-ce14-49b1-a042-3400f9c52051"
      },
      "source": [
        "from sklearn.metrics import accuracy_score\n",
        "round(accuracy_score(y_test,y_pred),4)*100"
      ],
      "execution_count": 23,
      "outputs": [
        {
          "output_type": "execute_result",
          "data": {
            "text/plain": [
              "92.31"
            ]
          },
          "metadata": {},
          "execution_count": 23
        }
      ]
    }
  ]
}